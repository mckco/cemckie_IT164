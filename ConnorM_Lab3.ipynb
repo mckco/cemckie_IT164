{
  "nbformat": 4,
  "nbformat_minor": 0,
  "metadata": {
    "colab": {
      "provenance": [],
      "authorship_tag": "ABX9TyMRo5hSZCGOc70yR9XcJ2ts",
      "include_colab_link": true
    },
    "kernelspec": {
      "name": "python3",
      "display_name": "Python 3"
    },
    "language_info": {
      "name": "python"
    }
  },
  "cells": [
    {
      "cell_type": "markdown",
      "metadata": {
        "id": "view-in-github",
        "colab_type": "text"
      },
      "source": [
        "<a href=\"https://colab.research.google.com/github/mckco/cemckie_IT164/blob/main/ConnorM_Lab3.ipynb\" target=\"_parent\"><img src=\"https://colab.research.google.com/assets/colab-badge.svg\" alt=\"Open In Colab\"/></a>"
      ]
    },
    {
      "cell_type": "code",
      "execution_count": 4,
      "metadata": {
        "colab": {
          "base_uri": "https://localhost:8080/"
        },
        "id": "TZSSl5a8vkK6",
        "outputId": "40c85440-fcba-49b6-da11-11867538f99e"
      },
      "outputs": [
        {
          "output_type": "stream",
          "name": "stdout",
          "text": [
            "Enter width of rectangle: 2\n",
            "Enter length of rectangle: 2\n",
            "The perimeter of a rectangle that is 2.0 wide and 2.0 long is 8.0 and the area is 4.0\n"
          ]
        }
      ],
      "source": [
        "width = float(input('Enter width of rectangle: '))\n",
        "length = float(input('Enter length of rectangle: '))\n",
        "perimeter = 2 * (width + length)\n",
        "area = width * length\n",
        "print('The perimeter of a rectangle that is', width, 'wide and', length, 'long is', perimeter, 'and the area is', area)"
      ]
    },
    {
      "cell_type": "code",
      "source": [
        "weight = float(input('Enter your weight in lbs: '))\n",
        "height = float(input('Enter your height in inches: '))\n",
        "bmi = (weight / (height**2)) * 703\n",
        "print('Your BMI with the weight', weight, 'and the height', height, 'is', bmi)"
      ],
      "metadata": {
        "colab": {
          "base_uri": "https://localhost:8080/"
        },
        "id": "IqgFDQotwOrS",
        "outputId": "07e9e932-0587-4f2b-eaaf-57df3544ca13"
      },
      "execution_count": 3,
      "outputs": [
        {
          "output_type": "stream",
          "name": "stdout",
          "text": [
            "Enter your weight in lbs: 200\n",
            "Enter your height in inches: 72\n",
            "Your BMI with the weight 200.0 and the height 72.0 is 27.12191358024691\n"
          ]
        }
      ]
    }
  ]
}