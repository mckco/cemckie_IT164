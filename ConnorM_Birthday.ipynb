{
  "nbformat": 4,
  "nbformat_minor": 0,
  "metadata": {
    "colab": {
      "provenance": [],
      "authorship_tag": "ABX9TyM0e7scxq4kHNwWSYKjouMi",
      "include_colab_link": true
    },
    "kernelspec": {
      "name": "python3",
      "display_name": "Python 3"
    },
    "language_info": {
      "name": "python"
    }
  },
  "cells": [
    {
      "cell_type": "markdown",
      "metadata": {
        "id": "view-in-github",
        "colab_type": "text"
      },
      "source": [
        "<a href=\"https://colab.research.google.com/github/mckco/cemckie_IT164/blob/main/ConnorM_Birthday.ipynb\" target=\"_parent\"><img src=\"https://colab.research.google.com/assets/colab-badge.svg\" alt=\"Open In Colab\"/></a>"
      ]
    },
    {
      "cell_type": "code",
      "execution_count": null,
      "metadata": {
        "id": "fjQbmwQzJ_gN"
      },
      "outputs": [],
      "source": [
        "import datetime as dt\n",
        "\n",
        "today=dt.date.today()\n",
        "print ('Today is:' , today)"
      ]
    },
    {
      "cell_type": "code",
      "source": [
        "bDay=int(input('What day of the months were you born in: '))\n",
        "bMonth=int(input('What month were you born in: '))\n",
        "bYear=int(input('What year were you born in: '))\n",
        "\n",
        "BD=dt.date(bYear, bMonth, bDay)\n",
        "\n",
        "print('You were born on: ', BD.strftime('%A, %B %d, %Y'))"
      ],
      "metadata": {
        "id": "_q95VXIWP89i"
      },
      "execution_count": null,
      "outputs": []
    },
    {
      "cell_type": "code",
      "source": [
        "import calendar\n",
        "print(calendar.calendar (2001))"
      ],
      "metadata": {
        "id": "mJWYC3GiP9Qg"
      },
      "execution_count": null,
      "outputs": []
    }
  ]
}