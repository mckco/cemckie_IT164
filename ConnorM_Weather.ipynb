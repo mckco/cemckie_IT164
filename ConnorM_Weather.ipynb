{
  "nbformat": 4,
  "nbformat_minor": 0,
  "metadata": {
    "colab": {
      "name": "ConnorM_Weather.ipynb",
      "provenance": [],
      "authorship_tag": "ABX9TyNw8+czYwYPpZ26vsEDADDo",
      "include_colab_link": true
    },
    "kernelspec": {
      "name": "python3",
      "display_name": "Python 3"
    },
    "language_info": {
      "name": "python"
    }
  },
  "cells": [
    {
      "cell_type": "markdown",
      "metadata": {
        "id": "view-in-github",
        "colab_type": "text"
      },
      "source": [
        "<a href=\"https://colab.research.google.com/github/mckco/cemckie_IT164/blob/main/ConnorM_Weather.ipynb\" target=\"_parent\"><img src=\"https://colab.research.google.com/assets/colab-badge.svg\" alt=\"Open In Colab\"/></a>"
      ]
    },
    {
      "cell_type": "code",
      "execution_count": null,
      "metadata": {
        "id": "A-owVHtjibwo"
      },
      "outputs": [],
      "source": [
        "!pip install pyowm"
      ]
    },
    {
      "cell_type": "code",
      "source": [
        "#importing is using libraries with capabilities that other people have created\n",
        "from pyowm.owm import OWM\n",
        "# i am defining a variable here, which one is the variable: myKey\n",
        "myKey='12fab3e97327dc938a906614f7d30a2f'\n",
        "# we create an instance of the API connection with our key (myKey)\n",
        "# we place it in a variable, named anything you like, but be consistent\n",
        "owm= OWM(myKey)\n",
        "# there's a function/method we can use to get weather manager, weather_manager()\n",
        "wmg=owm.weather_manager()"
      ],
      "metadata": {
        "id": "GAyB1ZqKjfGV"
      },
      "execution_count": 8,
      "outputs": []
    },
    {
      "cell_type": "code",
      "source": [
        "# what's the variable? city\n",
        "# where does the information come from for the city variable: from users - input\n",
        "city = input('What city would you like to teleport to: ')\n",
        "# what's the variable? country\n",
        "country = input('What country is the city in: ')\n",
        "# citycountry is a concatonation\n",
        "citycountry= city + ', ' + country\n",
        "\n",
        "# getting weather\n",
        "observation = wmg.weather_at_place(citycountry)\n",
        "weather = observation.weather\n",
        "\n",
        "# which is the one we define: temperature\n",
        "# where do we get it from: from the API\n",
        "temperature = weather.temperature('fahrenheit')\n",
        "print(temperature)\n",
        "\n",
        "# what's variable here: feellike\n",
        "# where do i get the information from: API, temperature.get func\n",
        "feellike = temperature.get ('feels_like')\n",
        "print(feellike)\n",
        "\n",
        "# if the feellike is less than 30, print message below\n",
        "if feellike < 30:\n",
        "  print('You need a winter jacket if you want to go on a walk in', citycountry)\n",
        "# if the feellike is less than 50, print message below\n",
        "elif feellike < 50:\n",
        "  print('You need a light jacket if you want to go on a walk in', citycountry)\n",
        "# if the feellike is less than 70, print message below\n",
        "elif feellike < 70:\n",
        "  print('You may want to dress in layers if you want to go on a walk in', citycountry)\n",
        "# if the feellike is greater than all of those, print message below\n",
        "else:\n",
        "  print('You can wear your summer outfit if you want to go on a walk in', citycountry)"
      ],
      "metadata": {
        "colab": {
          "base_uri": "https://localhost:8080/"
        },
        "id": "gkZc2lAikJBf",
        "outputId": "1cc0ca13-137d-4be7-d124-abc34ad7876f"
      },
      "execution_count": 13,
      "outputs": [
        {
          "output_type": "stream",
          "name": "stdout",
          "text": [
            "What city would you like to teleport to: Danville\n",
            "What country is the city in: Illinois\n",
            "{'temp': 80.01, 'temp_max': 80.78, 'temp_min': 77.65, 'feels_like': 83.84, 'temp_kf': None}\n",
            "83.84\n",
            "You can wear your summer outfit if you want to go on a walk in Danville, Illinois\n"
          ]
        }
      ]
    }
  ]
}